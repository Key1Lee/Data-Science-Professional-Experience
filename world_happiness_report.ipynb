{
  "nbformat": 4,
  "nbformat_minor": 0,
  "metadata": {
    "colab": {
      "name": "world-happiness-report.ipynb",
      "version": "0.3.2",
      "provenance": [],
      "include_colab_link": true
    },
    "kernelspec": {
      "name": "python3",
      "display_name": "Python 3"
    }
  },
  "cells": [
    {
      "cell_type": "markdown",
      "metadata": {
        "id": "view-in-github",
        "colab_type": "text"
      },
      "source": [
        "<a href=\"https://colab.research.google.com/github/Key1Lee/Data-Science-Professional-Experience/blob/master/world_happiness_report.ipynb\" target=\"_parent\"><img src=\"https://colab.research.google.com/assets/colab-badge.svg\" alt=\"Open In Colab\"/></a>"
      ]
    },
    {
      "metadata": {
        "id": "zN4M24UZqBAz",
        "colab_type": "code",
        "colab": {}
      },
      "cell_type": "code",
      "source": [
        "dd_files = {\n",
        "    '2017.csv': '1MWUH7grW2UKzjUAl1juZwWkSsPlk2KyW'\n",
        "}"
      ],
      "execution_count": 0,
      "outputs": []
    },
    {
      "metadata": {
        "id": "6bkIByHzqIkT",
        "colab_type": "code",
        "outputId": "8a105091-7f46-4175-84a3-7b9c56111f0f",
        "colab": {
          "base_uri": "https://localhost:8080/",
          "height": 35
        }
      },
      "cell_type": "code",
      "source": [
        "!pip install -U -q PyDrive\t\t\t## First time install\n",
        "from pydrive.auth import GoogleAuth\n",
        "from pydrive.drive import GoogleDrive\n",
        "from google.colab import auth\n",
        "from oauth2client.client import GoogleCredentials\n",
        "\n",
        "auth.authenticate_user()\n",
        "gauth = GoogleAuth()\n",
        "gauth.credentials = GoogleCredentials.get_application_default()\n",
        "drive = GoogleDrive(gauth)\n",
        "\n",
        "#Download both files to cloud machine\n",
        "for k,v in dd_files.items():\n",
        "  downloaded = drive.CreateFile({'id': v}) # Get ID of file to download\n",
        "  downloaded.GetContentFile('/tmp/' + k)\n",
        "\n",
        "! ls /tmp"
      ],
      "execution_count": 0,
      "outputs": [
        {
          "output_type": "stream",
          "text": [
            "2017.csv\n"
          ],
          "name": "stdout"
        }
      ]
    },
    {
      "metadata": {
        "id": "YoTs7QX-qh9Y",
        "colab_type": "code",
        "colab": {}
      },
      "cell_type": "code",
      "source": [
        "import pandas as pd\n",
        "import numpy as np\n",
        "import matplotlib.pyplot as plt\n",
        "import seaborn as sns\n",
        "%matplotlib inline\n",
        "from sklearn.linear_model import LinearRegression\n",
        "from sklearn.model_selection import train_test_split\n",
        "from sklearn import metrics"
      ],
      "execution_count": 0,
      "outputs": []
    },
    {
      "metadata": {
        "id": "bg5xIHI7rSr4",
        "colab_type": "code",
        "outputId": "20ced374-185a-4a3e-9b63-0cd46f144175",
        "colab": {
          "base_uri": "https://localhost:8080/",
          "height": 257
        }
      },
      "cell_type": "code",
      "source": [
        "# read data into a DataFrame\n",
        "happiness = pd.read_csv('/tmp/2017.csv', index_col=0)\n",
        "happiness.head()"
      ],
      "execution_count": 0,
      "outputs": [
        {
          "output_type": "execute_result",
          "data": {
            "text/html": [
              "<div>\n",
              "<style scoped>\n",
              "    .dataframe tbody tr th:only-of-type {\n",
              "        vertical-align: middle;\n",
              "    }\n",
              "\n",
              "    .dataframe tbody tr th {\n",
              "        vertical-align: top;\n",
              "    }\n",
              "\n",
              "    .dataframe thead th {\n",
              "        text-align: right;\n",
              "    }\n",
              "</style>\n",
              "<table border=\"1\" class=\"dataframe\">\n",
              "  <thead>\n",
              "    <tr style=\"text-align: right;\">\n",
              "      <th></th>\n",
              "      <th>Happiness.Rank</th>\n",
              "      <th>Happiness.Score</th>\n",
              "      <th>Whisker.high</th>\n",
              "      <th>Whisker.low</th>\n",
              "      <th>Economy..GDP.per.Capita.</th>\n",
              "      <th>Family</th>\n",
              "      <th>Health..Life.Expectancy.</th>\n",
              "      <th>Freedom</th>\n",
              "      <th>Generosity</th>\n",
              "      <th>Trust..Government.Corruption.</th>\n",
              "      <th>Dystopia.Residual</th>\n",
              "    </tr>\n",
              "    <tr>\n",
              "      <th>Country</th>\n",
              "      <th></th>\n",
              "      <th></th>\n",
              "      <th></th>\n",
              "      <th></th>\n",
              "      <th></th>\n",
              "      <th></th>\n",
              "      <th></th>\n",
              "      <th></th>\n",
              "      <th></th>\n",
              "      <th></th>\n",
              "      <th></th>\n",
              "    </tr>\n",
              "  </thead>\n",
              "  <tbody>\n",
              "    <tr>\n",
              "      <th>Norway</th>\n",
              "      <td>1</td>\n",
              "      <td>7.537</td>\n",
              "      <td>7.594445</td>\n",
              "      <td>7.479556</td>\n",
              "      <td>1.616463</td>\n",
              "      <td>1.533524</td>\n",
              "      <td>0.796667</td>\n",
              "      <td>0.635423</td>\n",
              "      <td>0.362012</td>\n",
              "      <td>0.315964</td>\n",
              "      <td>2.277027</td>\n",
              "    </tr>\n",
              "    <tr>\n",
              "      <th>Denmark</th>\n",
              "      <td>2</td>\n",
              "      <td>7.522</td>\n",
              "      <td>7.581728</td>\n",
              "      <td>7.462272</td>\n",
              "      <td>1.482383</td>\n",
              "      <td>1.551122</td>\n",
              "      <td>0.792566</td>\n",
              "      <td>0.626007</td>\n",
              "      <td>0.355280</td>\n",
              "      <td>0.400770</td>\n",
              "      <td>2.313707</td>\n",
              "    </tr>\n",
              "    <tr>\n",
              "      <th>Iceland</th>\n",
              "      <td>3</td>\n",
              "      <td>7.504</td>\n",
              "      <td>7.622030</td>\n",
              "      <td>7.385970</td>\n",
              "      <td>1.480633</td>\n",
              "      <td>1.610574</td>\n",
              "      <td>0.833552</td>\n",
              "      <td>0.627163</td>\n",
              "      <td>0.475540</td>\n",
              "      <td>0.153527</td>\n",
              "      <td>2.322715</td>\n",
              "    </tr>\n",
              "    <tr>\n",
              "      <th>Switzerland</th>\n",
              "      <td>4</td>\n",
              "      <td>7.494</td>\n",
              "      <td>7.561772</td>\n",
              "      <td>7.426227</td>\n",
              "      <td>1.564980</td>\n",
              "      <td>1.516912</td>\n",
              "      <td>0.858131</td>\n",
              "      <td>0.620071</td>\n",
              "      <td>0.290549</td>\n",
              "      <td>0.367007</td>\n",
              "      <td>2.276716</td>\n",
              "    </tr>\n",
              "    <tr>\n",
              "      <th>Finland</th>\n",
              "      <td>5</td>\n",
              "      <td>7.469</td>\n",
              "      <td>7.527542</td>\n",
              "      <td>7.410458</td>\n",
              "      <td>1.443572</td>\n",
              "      <td>1.540247</td>\n",
              "      <td>0.809158</td>\n",
              "      <td>0.617951</td>\n",
              "      <td>0.245483</td>\n",
              "      <td>0.382612</td>\n",
              "      <td>2.430182</td>\n",
              "    </tr>\n",
              "  </tbody>\n",
              "</table>\n",
              "</div>"
            ],
            "text/plain": [
              "             Happiness.Rank  Happiness.Score  Whisker.high  Whisker.low  \\\n",
              "Country                                                                   \n",
              "Norway                    1            7.537      7.594445     7.479556   \n",
              "Denmark                   2            7.522      7.581728     7.462272   \n",
              "Iceland                   3            7.504      7.622030     7.385970   \n",
              "Switzerland               4            7.494      7.561772     7.426227   \n",
              "Finland                   5            7.469      7.527542     7.410458   \n",
              "\n",
              "             Economy..GDP.per.Capita.    Family  Health..Life.Expectancy.  \\\n",
              "Country                                                                     \n",
              "Norway                       1.616463  1.533524                  0.796667   \n",
              "Denmark                      1.482383  1.551122                  0.792566   \n",
              "Iceland                      1.480633  1.610574                  0.833552   \n",
              "Switzerland                  1.564980  1.516912                  0.858131   \n",
              "Finland                      1.443572  1.540247                  0.809158   \n",
              "\n",
              "              Freedom  Generosity  Trust..Government.Corruption.  \\\n",
              "Country                                                            \n",
              "Norway       0.635423    0.362012                       0.315964   \n",
              "Denmark      0.626007    0.355280                       0.400770   \n",
              "Iceland      0.627163    0.475540                       0.153527   \n",
              "Switzerland  0.620071    0.290549                       0.367007   \n",
              "Finland      0.617951    0.245483                       0.382612   \n",
              "\n",
              "             Dystopia.Residual  \n",
              "Country                         \n",
              "Norway                2.277027  \n",
              "Denmark               2.313707  \n",
              "Iceland               2.322715  \n",
              "Switzerland           2.276716  \n",
              "Finland               2.430182  "
            ]
          },
          "metadata": {
            "tags": []
          },
          "execution_count": 6
        }
      ]
    },
    {
      "metadata": {
        "id": "OvUaZOwrrVtJ",
        "colab_type": "code",
        "outputId": "04758166-7915-4d46-f419-2d8ecd9d20f3",
        "colab": {
          "base_uri": "https://localhost:8080/",
          "height": 257
        }
      },
      "cell_type": "code",
      "source": [
        "happiness.head()"
      ],
      "execution_count": 0,
      "outputs": [
        {
          "output_type": "execute_result",
          "data": {
            "text/html": [
              "<div>\n",
              "<style scoped>\n",
              "    .dataframe tbody tr th:only-of-type {\n",
              "        vertical-align: middle;\n",
              "    }\n",
              "\n",
              "    .dataframe tbody tr th {\n",
              "        vertical-align: top;\n",
              "    }\n",
              "\n",
              "    .dataframe thead th {\n",
              "        text-align: right;\n",
              "    }\n",
              "</style>\n",
              "<table border=\"1\" class=\"dataframe\">\n",
              "  <thead>\n",
              "    <tr style=\"text-align: right;\">\n",
              "      <th></th>\n",
              "      <th>Happiness.Rank</th>\n",
              "      <th>Happiness.Score</th>\n",
              "      <th>Whisker.high</th>\n",
              "      <th>Whisker.low</th>\n",
              "      <th>Economy..GDP.per.Capita.</th>\n",
              "      <th>Family</th>\n",
              "      <th>Health..Life.Expectancy.</th>\n",
              "      <th>Freedom</th>\n",
              "      <th>Generosity</th>\n",
              "      <th>Trust..Government.Corruption.</th>\n",
              "      <th>Dystopia.Residual</th>\n",
              "    </tr>\n",
              "    <tr>\n",
              "      <th>Country</th>\n",
              "      <th></th>\n",
              "      <th></th>\n",
              "      <th></th>\n",
              "      <th></th>\n",
              "      <th></th>\n",
              "      <th></th>\n",
              "      <th></th>\n",
              "      <th></th>\n",
              "      <th></th>\n",
              "      <th></th>\n",
              "      <th></th>\n",
              "    </tr>\n",
              "  </thead>\n",
              "  <tbody>\n",
              "    <tr>\n",
              "      <th>Norway</th>\n",
              "      <td>1</td>\n",
              "      <td>7.537</td>\n",
              "      <td>7.594445</td>\n",
              "      <td>7.479556</td>\n",
              "      <td>1.616463</td>\n",
              "      <td>1.533524</td>\n",
              "      <td>0.796667</td>\n",
              "      <td>0.635423</td>\n",
              "      <td>0.362012</td>\n",
              "      <td>0.315964</td>\n",
              "      <td>2.277027</td>\n",
              "    </tr>\n",
              "    <tr>\n",
              "      <th>Denmark</th>\n",
              "      <td>2</td>\n",
              "      <td>7.522</td>\n",
              "      <td>7.581728</td>\n",
              "      <td>7.462272</td>\n",
              "      <td>1.482383</td>\n",
              "      <td>1.551122</td>\n",
              "      <td>0.792566</td>\n",
              "      <td>0.626007</td>\n",
              "      <td>0.355280</td>\n",
              "      <td>0.400770</td>\n",
              "      <td>2.313707</td>\n",
              "    </tr>\n",
              "    <tr>\n",
              "      <th>Iceland</th>\n",
              "      <td>3</td>\n",
              "      <td>7.504</td>\n",
              "      <td>7.622030</td>\n",
              "      <td>7.385970</td>\n",
              "      <td>1.480633</td>\n",
              "      <td>1.610574</td>\n",
              "      <td>0.833552</td>\n",
              "      <td>0.627163</td>\n",
              "      <td>0.475540</td>\n",
              "      <td>0.153527</td>\n",
              "      <td>2.322715</td>\n",
              "    </tr>\n",
              "    <tr>\n",
              "      <th>Switzerland</th>\n",
              "      <td>4</td>\n",
              "      <td>7.494</td>\n",
              "      <td>7.561772</td>\n",
              "      <td>7.426227</td>\n",
              "      <td>1.564980</td>\n",
              "      <td>1.516912</td>\n",
              "      <td>0.858131</td>\n",
              "      <td>0.620071</td>\n",
              "      <td>0.290549</td>\n",
              "      <td>0.367007</td>\n",
              "      <td>2.276716</td>\n",
              "    </tr>\n",
              "    <tr>\n",
              "      <th>Finland</th>\n",
              "      <td>5</td>\n",
              "      <td>7.469</td>\n",
              "      <td>7.527542</td>\n",
              "      <td>7.410458</td>\n",
              "      <td>1.443572</td>\n",
              "      <td>1.540247</td>\n",
              "      <td>0.809158</td>\n",
              "      <td>0.617951</td>\n",
              "      <td>0.245483</td>\n",
              "      <td>0.382612</td>\n",
              "      <td>2.430182</td>\n",
              "    </tr>\n",
              "  </tbody>\n",
              "</table>\n",
              "</div>"
            ],
            "text/plain": [
              "             Happiness.Rank  Happiness.Score  Whisker.high  Whisker.low  \\\n",
              "Country                                                                   \n",
              "Norway                    1            7.537      7.594445     7.479556   \n",
              "Denmark                   2            7.522      7.581728     7.462272   \n",
              "Iceland                   3            7.504      7.622030     7.385970   \n",
              "Switzerland               4            7.494      7.561772     7.426227   \n",
              "Finland                   5            7.469      7.527542     7.410458   \n",
              "\n",
              "             Economy..GDP.per.Capita.    Family  Health..Life.Expectancy.  \\\n",
              "Country                                                                     \n",
              "Norway                       1.616463  1.533524                  0.796667   \n",
              "Denmark                      1.482383  1.551122                  0.792566   \n",
              "Iceland                      1.480633  1.610574                  0.833552   \n",
              "Switzerland                  1.564980  1.516912                  0.858131   \n",
              "Finland                      1.443572  1.540247                  0.809158   \n",
              "\n",
              "              Freedom  Generosity  Trust..Government.Corruption.  \\\n",
              "Country                                                            \n",
              "Norway       0.635423    0.362012                       0.315964   \n",
              "Denmark      0.626007    0.355280                       0.400770   \n",
              "Iceland      0.627163    0.475540                       0.153527   \n",
              "Switzerland  0.620071    0.290549                       0.367007   \n",
              "Finland      0.617951    0.245483                       0.382612   \n",
              "\n",
              "             Dystopia.Residual  \n",
              "Country                         \n",
              "Norway                2.277027  \n",
              "Denmark               2.313707  \n",
              "Iceland               2.322715  \n",
              "Switzerland           2.276716  \n",
              "Finland               2.430182  "
            ]
          },
          "metadata": {
            "tags": []
          },
          "execution_count": 7
        }
      ]
    },
    {
      "metadata": {
        "id": "1EsTNZCi9a_Y",
        "colab_type": "code",
        "outputId": "9ad826d4-95c1-4eb0-ea55-c6c145f38ff2",
        "colab": {
          "base_uri": "https://localhost:8080/",
          "height": 312
        }
      },
      "cell_type": "code",
      "source": [
        "happiness.info()"
      ],
      "execution_count": 0,
      "outputs": [
        {
          "output_type": "stream",
          "text": [
            "<class 'pandas.core.frame.DataFrame'>\n",
            "Index: 155 entries, Norway to Central African Republic\n",
            "Data columns (total 11 columns):\n",
            "Happiness.Rank                   155 non-null int64\n",
            "Happiness.Score                  155 non-null float64\n",
            "Whisker.high                     155 non-null float64\n",
            "Whisker.low                      155 non-null float64\n",
            "Economy..GDP.per.Capita.         155 non-null float64\n",
            "Family                           155 non-null float64\n",
            "Health..Life.Expectancy.         155 non-null float64\n",
            "Freedom                          155 non-null float64\n",
            "Generosity                       155 non-null float64\n",
            "Trust..Government.Corruption.    155 non-null float64\n",
            "Dystopia.Residual                155 non-null float64\n",
            "dtypes: float64(10), int64(1)\n",
            "memory usage: 14.5+ KB\n"
          ],
          "name": "stdout"
        }
      ]
    },
    {
      "metadata": {
        "id": "nbIMwP8Q9b05",
        "colab_type": "code",
        "outputId": "651f65a9-8157-4986-a9a3-1af3aa12d3dc",
        "colab": {
          "base_uri": "https://localhost:8080/",
          "height": 320
        }
      },
      "cell_type": "code",
      "source": [
        "happiness.describe()"
      ],
      "execution_count": 0,
      "outputs": [
        {
          "output_type": "execute_result",
          "data": {
            "text/html": [
              "<div>\n",
              "<style scoped>\n",
              "    .dataframe tbody tr th:only-of-type {\n",
              "        vertical-align: middle;\n",
              "    }\n",
              "\n",
              "    .dataframe tbody tr th {\n",
              "        vertical-align: top;\n",
              "    }\n",
              "\n",
              "    .dataframe thead th {\n",
              "        text-align: right;\n",
              "    }\n",
              "</style>\n",
              "<table border=\"1\" class=\"dataframe\">\n",
              "  <thead>\n",
              "    <tr style=\"text-align: right;\">\n",
              "      <th></th>\n",
              "      <th>Happiness.Rank</th>\n",
              "      <th>Happiness.Score</th>\n",
              "      <th>Whisker.high</th>\n",
              "      <th>Whisker.low</th>\n",
              "      <th>Economy..GDP.per.Capita.</th>\n",
              "      <th>Family</th>\n",
              "      <th>Health..Life.Expectancy.</th>\n",
              "      <th>Freedom</th>\n",
              "      <th>Generosity</th>\n",
              "      <th>Trust..Government.Corruption.</th>\n",
              "      <th>Dystopia.Residual</th>\n",
              "    </tr>\n",
              "  </thead>\n",
              "  <tbody>\n",
              "    <tr>\n",
              "      <th>count</th>\n",
              "      <td>155.000000</td>\n",
              "      <td>155.000000</td>\n",
              "      <td>155.000000</td>\n",
              "      <td>155.000000</td>\n",
              "      <td>155.000000</td>\n",
              "      <td>155.000000</td>\n",
              "      <td>155.000000</td>\n",
              "      <td>155.000000</td>\n",
              "      <td>155.000000</td>\n",
              "      <td>155.000000</td>\n",
              "      <td>155.000000</td>\n",
              "    </tr>\n",
              "    <tr>\n",
              "      <th>mean</th>\n",
              "      <td>78.000000</td>\n",
              "      <td>5.354019</td>\n",
              "      <td>5.452326</td>\n",
              "      <td>5.255713</td>\n",
              "      <td>0.984718</td>\n",
              "      <td>1.188898</td>\n",
              "      <td>0.551341</td>\n",
              "      <td>0.408786</td>\n",
              "      <td>0.246883</td>\n",
              "      <td>0.123120</td>\n",
              "      <td>1.850238</td>\n",
              "    </tr>\n",
              "    <tr>\n",
              "      <th>std</th>\n",
              "      <td>44.888751</td>\n",
              "      <td>1.131230</td>\n",
              "      <td>1.118542</td>\n",
              "      <td>1.145030</td>\n",
              "      <td>0.420793</td>\n",
              "      <td>0.287263</td>\n",
              "      <td>0.237073</td>\n",
              "      <td>0.149997</td>\n",
              "      <td>0.134780</td>\n",
              "      <td>0.101661</td>\n",
              "      <td>0.500028</td>\n",
              "    </tr>\n",
              "    <tr>\n",
              "      <th>min</th>\n",
              "      <td>1.000000</td>\n",
              "      <td>2.693000</td>\n",
              "      <td>2.864884</td>\n",
              "      <td>2.521116</td>\n",
              "      <td>0.000000</td>\n",
              "      <td>0.000000</td>\n",
              "      <td>0.000000</td>\n",
              "      <td>0.000000</td>\n",
              "      <td>0.000000</td>\n",
              "      <td>0.000000</td>\n",
              "      <td>0.377914</td>\n",
              "    </tr>\n",
              "    <tr>\n",
              "      <th>25%</th>\n",
              "      <td>39.500000</td>\n",
              "      <td>4.505500</td>\n",
              "      <td>4.608172</td>\n",
              "      <td>4.374955</td>\n",
              "      <td>0.663371</td>\n",
              "      <td>1.042635</td>\n",
              "      <td>0.369866</td>\n",
              "      <td>0.303677</td>\n",
              "      <td>0.154106</td>\n",
              "      <td>0.057271</td>\n",
              "      <td>1.591291</td>\n",
              "    </tr>\n",
              "    <tr>\n",
              "      <th>50%</th>\n",
              "      <td>78.000000</td>\n",
              "      <td>5.279000</td>\n",
              "      <td>5.370032</td>\n",
              "      <td>5.193152</td>\n",
              "      <td>1.064578</td>\n",
              "      <td>1.253918</td>\n",
              "      <td>0.606042</td>\n",
              "      <td>0.437454</td>\n",
              "      <td>0.231538</td>\n",
              "      <td>0.089848</td>\n",
              "      <td>1.832910</td>\n",
              "    </tr>\n",
              "    <tr>\n",
              "      <th>75%</th>\n",
              "      <td>116.500000</td>\n",
              "      <td>6.101500</td>\n",
              "      <td>6.194600</td>\n",
              "      <td>6.006527</td>\n",
              "      <td>1.318027</td>\n",
              "      <td>1.414316</td>\n",
              "      <td>0.723008</td>\n",
              "      <td>0.516561</td>\n",
              "      <td>0.323762</td>\n",
              "      <td>0.153296</td>\n",
              "      <td>2.144654</td>\n",
              "    </tr>\n",
              "    <tr>\n",
              "      <th>max</th>\n",
              "      <td>155.000000</td>\n",
              "      <td>7.537000</td>\n",
              "      <td>7.622030</td>\n",
              "      <td>7.479556</td>\n",
              "      <td>1.870766</td>\n",
              "      <td>1.610574</td>\n",
              "      <td>0.949492</td>\n",
              "      <td>0.658249</td>\n",
              "      <td>0.838075</td>\n",
              "      <td>0.464308</td>\n",
              "      <td>3.117485</td>\n",
              "    </tr>\n",
              "  </tbody>\n",
              "</table>\n",
              "</div>"
            ],
            "text/plain": [
              "       Happiness.Rank  Happiness.Score  Whisker.high  Whisker.low  \\\n",
              "count      155.000000       155.000000    155.000000   155.000000   \n",
              "mean        78.000000         5.354019      5.452326     5.255713   \n",
              "std         44.888751         1.131230      1.118542     1.145030   \n",
              "min          1.000000         2.693000      2.864884     2.521116   \n",
              "25%         39.500000         4.505500      4.608172     4.374955   \n",
              "50%         78.000000         5.279000      5.370032     5.193152   \n",
              "75%        116.500000         6.101500      6.194600     6.006527   \n",
              "max        155.000000         7.537000      7.622030     7.479556   \n",
              "\n",
              "       Economy..GDP.per.Capita.      Family  Health..Life.Expectancy.  \\\n",
              "count                155.000000  155.000000                155.000000   \n",
              "mean                   0.984718    1.188898                  0.551341   \n",
              "std                    0.420793    0.287263                  0.237073   \n",
              "min                    0.000000    0.000000                  0.000000   \n",
              "25%                    0.663371    1.042635                  0.369866   \n",
              "50%                    1.064578    1.253918                  0.606042   \n",
              "75%                    1.318027    1.414316                  0.723008   \n",
              "max                    1.870766    1.610574                  0.949492   \n",
              "\n",
              "          Freedom  Generosity  Trust..Government.Corruption.  \\\n",
              "count  155.000000  155.000000                     155.000000   \n",
              "mean     0.408786    0.246883                       0.123120   \n",
              "std      0.149997    0.134780                       0.101661   \n",
              "min      0.000000    0.000000                       0.000000   \n",
              "25%      0.303677    0.154106                       0.057271   \n",
              "50%      0.437454    0.231538                       0.089848   \n",
              "75%      0.516561    0.323762                       0.153296   \n",
              "max      0.658249    0.838075                       0.464308   \n",
              "\n",
              "       Dystopia.Residual  \n",
              "count         155.000000  \n",
              "mean            1.850238  \n",
              "std             0.500028  \n",
              "min             0.377914  \n",
              "25%             1.591291  \n",
              "50%             1.832910  \n",
              "75%             2.144654  \n",
              "max             3.117485  "
            ]
          },
          "metadata": {
            "tags": []
          },
          "execution_count": 9
        }
      ]
    },
    {
      "metadata": {
        "id": "Bt_QrBT_9dNf",
        "colab_type": "code",
        "outputId": "18886c7f-b28e-4a36-91d2-de409aba75f3",
        "colab": {
          "base_uri": "https://localhost:8080/",
          "height": 109
        }
      },
      "cell_type": "code",
      "source": [
        "happiness.columns"
      ],
      "execution_count": 0,
      "outputs": [
        {
          "output_type": "execute_result",
          "data": {
            "text/plain": [
              "Index(['Happiness.Rank', 'Happiness.Score', 'Whisker.high', 'Whisker.low',\n",
              "       'Economy..GDP.per.Capita.', 'Family', 'Health..Life.Expectancy.',\n",
              "       'Freedom', 'Generosity', 'Trust..Government.Corruption.',\n",
              "       'Dystopia.Residual'],\n",
              "      dtype='object')"
            ]
          },
          "metadata": {
            "tags": []
          },
          "execution_count": 14
        }
      ]
    },
    {
      "metadata": {
        "id": "faIr9jzE-X6e",
        "colab_type": "code",
        "outputId": "f716135c-c70b-401d-db0d-5f9df751ff92",
        "colab": {
          "base_uri": "https://localhost:8080/",
          "height": 35
        }
      },
      "cell_type": "code",
      "source": [
        "happiness.shape"
      ],
      "execution_count": 0,
      "outputs": [
        {
          "output_type": "execute_result",
          "data": {
            "text/plain": [
              "(155, 11)"
            ]
          },
          "metadata": {
            "tags": []
          },
          "execution_count": 15
        }
      ]
    },
    {
      "metadata": {
        "id": "2_EG78gi9eIE",
        "colab_type": "code",
        "outputId": "63da08bc-48b9-4647-a4b5-49990f64b433",
        "colab": {
          "base_uri": "https://localhost:8080/",
          "height": 297
        }
      },
      "cell_type": "code",
      "source": [
        "sns.distplot (happiness['Happiness.Score'])"
      ],
      "execution_count": 0,
      "outputs": [
        {
          "output_type": "execute_result",
          "data": {
            "text/plain": [
              "<matplotlib.axes._subplots.AxesSubplot at 0x7f9a4ce8cf60>"
            ]
          },
          "metadata": {
            "tags": []
          },
          "execution_count": 11
        },
        {
          "output_type": "display_data",
          "data": {
            "image/png": "[encoded data removed]",
            "text/plain": [
              "<matplotlib.figure.Figure at 0x7f9a4cf3ae10>"
            ]
          },
          "metadata": {
            "tags": []
          }
        }
      ]
    },
    {
      "metadata": {
        "id": "8cTpzdjA9pXh",
        "colab_type": "code",
        "outputId": "50dc3a8c-32a7-4f86-85f5-f5089cb05740",
        "colab": {
          "base_uri": "https://localhost:8080/",
          "height": 414
        }
      },
      "cell_type": "code",
      "source": [
        "happiness.corr()"
      ],
      "execution_count": 0,
      "outputs": [
        {
          "output_type": "execute_result",
          "data": {
            "text/html": [
              "<div>\n",
              "<style scoped>\n",
              "    .dataframe tbody tr th:only-of-type {\n",
              "        vertical-align: middle;\n",
              "    }\n",
              "\n",
              "    .dataframe tbody tr th {\n",
              "        vertical-align: top;\n",
              "    }\n",
              "\n",
              "    .dataframe thead th {\n",
              "        text-align: right;\n",
              "    }\n",
              "</style>\n",
              "<table border=\"1\" class=\"dataframe\">\n",
              "  <thead>\n",
              "    <tr style=\"text-align: right;\">\n",
              "      <th></th>\n",
              "      <th>Happiness.Rank</th>\n",
              "      <th>Happiness.Score</th>\n",
              "      <th>Whisker.high</th>\n",
              "      <th>Whisker.low</th>\n",
              "      <th>Economy..GDP.per.Capita.</th>\n",
              "      <th>Family</th>\n",
              "      <th>Health..Life.Expectancy.</th>\n",
              "      <th>Freedom</th>\n",
              "      <th>Generosity</th>\n",
              "      <th>Trust..Government.Corruption.</th>\n",
              "      <th>Dystopia.Residual</th>\n",
              "    </tr>\n",
              "  </thead>\n",
              "  <tbody>\n",
              "    <tr>\n",
              "      <th>Happiness.Rank</th>\n",
              "      <td>1.000000</td>\n",
              "      <td>-0.992774</td>\n",
              "      <td>-0.993058</td>\n",
              "      <td>-0.991533</td>\n",
              "      <td>-0.813244</td>\n",
              "      <td>-0.736753</td>\n",
              "      <td>-0.780716</td>\n",
              "      <td>-0.551608</td>\n",
              "      <td>-0.132620</td>\n",
              "      <td>-0.405842</td>\n",
              "      <td>-0.484506</td>\n",
              "    </tr>\n",
              "    <tr>\n",
              "      <th>Happiness.Score</th>\n",
              "      <td>-0.992774</td>\n",
              "      <td>1.000000</td>\n",
              "      <td>0.999497</td>\n",
              "      <td>0.999520</td>\n",
              "      <td>0.812469</td>\n",
              "      <td>0.752737</td>\n",
              "      <td>0.781951</td>\n",
              "      <td>0.570137</td>\n",
              "      <td>0.155256</td>\n",
              "      <td>0.429080</td>\n",
              "      <td>0.475355</td>\n",
              "    </tr>\n",
              "    <tr>\n",
              "      <th>Whisker.high</th>\n",
              "      <td>-0.993058</td>\n",
              "      <td>0.999497</td>\n",
              "      <td>1.000000</td>\n",
              "      <td>0.998036</td>\n",
              "      <td>0.811868</td>\n",
              "      <td>0.750934</td>\n",
              "      <td>0.776634</td>\n",
              "      <td>0.569907</td>\n",
              "      <td>0.155462</td>\n",
              "      <td>0.426459</td>\n",
              "      <td>0.478824</td>\n",
              "    </tr>\n",
              "    <tr>\n",
              "      <th>Whisker.low</th>\n",
              "      <td>-0.991533</td>\n",
              "      <td>0.999520</td>\n",
              "      <td>0.998036</td>\n",
              "      <td>1.000000</td>\n",
              "      <td>0.812267</td>\n",
              "      <td>0.753767</td>\n",
              "      <td>0.786385</td>\n",
              "      <td>0.569808</td>\n",
              "      <td>0.154904</td>\n",
              "      <td>0.431223</td>\n",
              "      <td>0.471505</td>\n",
              "    </tr>\n",
              "    <tr>\n",
              "      <th>Economy..GDP.per.Capita.</th>\n",
              "      <td>-0.813244</td>\n",
              "      <td>0.812469</td>\n",
              "      <td>0.811868</td>\n",
              "      <td>0.812267</td>\n",
              "      <td>1.000000</td>\n",
              "      <td>0.688296</td>\n",
              "      <td>0.843077</td>\n",
              "      <td>0.369873</td>\n",
              "      <td>-0.019011</td>\n",
              "      <td>0.350944</td>\n",
              "      <td>0.024226</td>\n",
              "    </tr>\n",
              "    <tr>\n",
              "      <th>Family</th>\n",
              "      <td>-0.736753</td>\n",
              "      <td>0.752737</td>\n",
              "      <td>0.750934</td>\n",
              "      <td>0.753767</td>\n",
              "      <td>0.688296</td>\n",
              "      <td>1.000000</td>\n",
              "      <td>0.612080</td>\n",
              "      <td>0.424966</td>\n",
              "      <td>0.051693</td>\n",
              "      <td>0.231841</td>\n",
              "      <td>0.070506</td>\n",
              "    </tr>\n",
              "    <tr>\n",
              "      <th>Health..Life.Expectancy.</th>\n",
              "      <td>-0.780716</td>\n",
              "      <td>0.781951</td>\n",
              "      <td>0.776634</td>\n",
              "      <td>0.786385</td>\n",
              "      <td>0.843077</td>\n",
              "      <td>0.612080</td>\n",
              "      <td>1.000000</td>\n",
              "      <td>0.349827</td>\n",
              "      <td>0.063191</td>\n",
              "      <td>0.279752</td>\n",
              "      <td>0.054963</td>\n",
              "    </tr>\n",
              "    <tr>\n",
              "      <th>Freedom</th>\n",
              "      <td>-0.551608</td>\n",
              "      <td>0.570137</td>\n",
              "      <td>0.569907</td>\n",
              "      <td>0.569808</td>\n",
              "      <td>0.369873</td>\n",
              "      <td>0.424966</td>\n",
              "      <td>0.349827</td>\n",
              "      <td>1.000000</td>\n",
              "      <td>0.316083</td>\n",
              "      <td>0.499183</td>\n",
              "      <td>0.081926</td>\n",
              "    </tr>\n",
              "    <tr>\n",
              "      <th>Generosity</th>\n",
              "      <td>-0.132620</td>\n",
              "      <td>0.155256</td>\n",
              "      <td>0.155462</td>\n",
              "      <td>0.154904</td>\n",
              "      <td>-0.019011</td>\n",
              "      <td>0.051693</td>\n",
              "      <td>0.063191</td>\n",
              "      <td>0.316083</td>\n",
              "      <td>1.000000</td>\n",
              "      <td>0.294159</td>\n",
              "      <td>-0.116627</td>\n",
              "    </tr>\n",
              "    <tr>\n",
              "      <th>Trust..Government.Corruption.</th>\n",
              "      <td>-0.405842</td>\n",
              "      <td>0.429080</td>\n",
              "      <td>0.426459</td>\n",
              "      <td>0.431223</td>\n",
              "      <td>0.350944</td>\n",
              "      <td>0.231841</td>\n",
              "      <td>0.279752</td>\n",
              "      <td>0.499183</td>\n",
              "      <td>0.294159</td>\n",
              "      <td>1.000000</td>\n",
              "      <td>-0.022755</td>\n",
              "    </tr>\n",
              "    <tr>\n",
              "      <th>Dystopia.Residual</th>\n",
              "      <td>-0.484506</td>\n",
              "      <td>0.475355</td>\n",
              "      <td>0.478824</td>\n",
              "      <td>0.471505</td>\n",
              "      <td>0.024226</td>\n",
              "      <td>0.070506</td>\n",
              "      <td>0.054963</td>\n",
              "      <td>0.081926</td>\n",
              "      <td>-0.116627</td>\n",
              "      <td>-0.022755</td>\n",
              "      <td>1.000000</td>\n",
              "    </tr>\n",
              "  </tbody>\n",
              "</table>\n",
              "</div>"
            ],
            "text/plain": [
              "                               Happiness.Rank  Happiness.Score  Whisker.high  \\\n",
              "Happiness.Rank                       1.000000        -0.992774     -0.993058   \n",
              "Happiness.Score                     -0.992774         1.000000      0.999497   \n",
              "Whisker.high                        -0.993058         0.999497      1.000000   \n",
              "Whisker.low                         -0.991533         0.999520      0.998036   \n",
              "Economy..GDP.per.Capita.            -0.813244         0.812469      0.811868   \n",
              "Family                              -0.736753         0.752737      0.750934   \n",
              "Health..Life.Expectancy.            -0.780716         0.781951      0.776634   \n",
              "Freedom                             -0.551608         0.570137      0.569907   \n",
              "Generosity                          -0.132620         0.155256      0.155462   \n",
              "Trust..Government.Corruption.       -0.405842         0.429080      0.426459   \n",
              "Dystopia.Residual                   -0.484506         0.475355      0.478824   \n",
              "\n",
              "                               Whisker.low  Economy..GDP.per.Capita.  \\\n",
              "Happiness.Rank                   -0.991533                 -0.813244   \n",
              "Happiness.Score                   0.999520                  0.812469   \n",
              "Whisker.high                      0.998036                  0.811868   \n",
              "Whisker.low                       1.000000                  0.812267   \n",
              "Economy..GDP.per.Capita.          0.812267                  1.000000   \n",
              "Family                            0.753767                  0.688296   \n",
              "Health..Life.Expectancy.          0.786385                  0.843077   \n",
              "Freedom                           0.569808                  0.369873   \n",
              "Generosity                        0.154904                 -0.019011   \n",
              "Trust..Government.Corruption.     0.431223                  0.350944   \n",
              "Dystopia.Residual                 0.471505                  0.024226   \n",
              "\n",
              "                                 Family  Health..Life.Expectancy.   Freedom  \\\n",
              "Happiness.Rank                -0.736753                 -0.780716 -0.551608   \n",
              "Happiness.Score                0.752737                  0.781951  0.570137   \n",
              "Whisker.high                   0.750934                  0.776634  0.569907   \n",
              "Whisker.low                    0.753767                  0.786385  0.569808   \n",
              "Economy..GDP.per.Capita.       0.688296                  0.843077  0.369873   \n",
              "Family                         1.000000                  0.612080  0.424966   \n",
              "Health..Life.Expectancy.       0.612080                  1.000000  0.349827   \n",
              "Freedom                        0.424966                  0.349827  1.000000   \n",
              "Generosity                     0.051693                  0.063191  0.316083   \n",
              "Trust..Government.Corruption.  0.231841                  0.279752  0.499183   \n",
              "Dystopia.Residual              0.070506                  0.054963  0.081926   \n",
              "\n",
              "                               Generosity  Trust..Government.Corruption.  \\\n",
              "Happiness.Rank                  -0.132620                      -0.405842   \n",
              "Happiness.Score                  0.155256                       0.429080   \n",
              "Whisker.high                     0.155462                       0.426459   \n",
              "Whisker.low                      0.154904                       0.431223   \n",
              "Economy..GDP.per.Capita.        -0.019011                       0.350944   \n",
              "Family                           0.051693                       0.231841   \n",
              "Health..Life.Expectancy.         0.063191                       0.279752   \n",
              "Freedom                          0.316083                       0.499183   \n",
              "Generosity                       1.000000                       0.294159   \n",
              "Trust..Government.Corruption.    0.294159                       1.000000   \n",
              "Dystopia.Residual               -0.116627                      -0.022755   \n",
              "\n",
              "                               Dystopia.Residual  \n",
              "Happiness.Rank                         -0.484506  \n",
              "Happiness.Score                         0.475355  \n",
              "Whisker.high                            0.478824  \n",
              "Whisker.low                             0.471505  \n",
              "Economy..GDP.per.Capita.                0.024226  \n",
              "Family                                  0.070506  \n",
              "Health..Life.Expectancy.                0.054963  \n",
              "Freedom                                 0.081926  \n",
              "Generosity                             -0.116627  \n",
              "Trust..Government.Corruption.          -0.022755  \n",
              "Dystopia.Residual                       1.000000  "
            ]
          },
          "metadata": {
            "tags": []
          },
          "execution_count": 16
        }
      ]
    },
    {
      "metadata": {
        "id": "qYH8I0bn9tNR",
        "colab_type": "code",
        "colab": {}
      },
      "cell_type": "code",
      "source": [
        "X = happiness[['Economy..GDP.per.Capita.', 'Family', 'Health..Life.Expectancy.',\n",
        "               'Freedom']]\n",
        "y = happiness['Happiness.Score']"
      ],
      "execution_count": 0,
      "outputs": []
    },
    {
      "metadata": {
        "id": "5XTWViov_1nT",
        "colab_type": "code",
        "outputId": "e4944101-df54-4384-80b2-cbff8ef82b14",
        "colab": {
          "base_uri": "https://localhost:8080/",
          "height": 35
        }
      },
      "cell_type": "code",
      "source": [
        "# create X and y\n",
        "# R-Squared Metric explains the variance \n",
        "feature_cols = ['Economy..GDP.per.Capita.', 'Family', 'Health..Life.Expectancy.',\n",
        "               'Freedom']\n",
        "X = happiness[feature_cols]\n",
        "y = happiness['Happiness.Score']\n",
        "\n",
        "# instantiate and fit\n",
        "linreg = LinearRegression()\n",
        "linreg.fit(X, y)\n",
        "\n",
        "y_pred = linreg.predict(X)\n",
        "metrics.r2_score(y, y_pred)"
      ],
      "execution_count": 0,
      "outputs": [
        {
          "output_type": "execute_result",
          "data": {
            "text/plain": [
              "0.8056325565086679"
            ]
          },
          "metadata": {
            "tags": []
          },
          "execution_count": 25
        }
      ]
    },
    {
      "metadata": {
        "id": "zIs42B4r_6cg",
        "colab_type": "code",
        "outputId": "28cee95b-ab7f-46c1-afa5-572aa52f8522",
        "colab": {
          "base_uri": "https://localhost:8080/",
          "height": 298
        }
      },
      "cell_type": "code",
      "source": [
        "sns.distplot (happiness['Economy..GDP.per.Capita.'])"
      ],
      "execution_count": 0,
      "outputs": [
        {
          "output_type": "execute_result",
          "data": {
            "text/plain": [
              "<matplotlib.axes._subplots.AxesSubplot at 0x7f9a457e9f60>"
            ]
          },
          "metadata": {
            "tags": []
          },
          "execution_count": 34
        },
        {
          "output_type": "display_data",
          "data": {
            "image/png": "[encoded data removed]",
            "text/plain": [
              "<matplotlib.figure.Figure at 0x7f9a4584a7f0>"
            ]
          },
          "metadata": {
            "tags": []
          }
        }
      ]
    },
    {
      "metadata": {
        "id": "YuDpR824A_6g",
        "colab_type": "code",
        "outputId": "8fdb9284-e9d9-4a68-fcee-8e8021ab1b0d",
        "colab": {
          "base_uri": "https://localhost:8080/",
          "height": 297
        }
      },
      "cell_type": "code",
      "source": [
        "sns.distplot (happiness['Family'])"
      ],
      "execution_count": 0,
      "outputs": [
        {
          "output_type": "execute_result",
          "data": {
            "text/plain": [
              "<matplotlib.axes._subplots.AxesSubplot at 0x7f9a456c6d68>"
            ]
          },
          "metadata": {
            "tags": []
          },
          "execution_count": 37
        },
        {
          "output_type": "display_data",
          "data": {
            "image/png": "[encoded data removed]",
            "text/plain": [
              "<matplotlib.figure.Figure at 0x7f9a4569f320>"
            ]
          },
          "metadata": {
            "tags": []
          }
        }
      ]
    },
    {
      "metadata": {
        "id": "cWp6lVVqBdMn",
        "colab_type": "code",
        "outputId": "21f2effa-5aaf-4974-dabb-929550d68808",
        "colab": {
          "base_uri": "https://localhost:8080/",
          "height": 297
        }
      },
      "cell_type": "code",
      "source": [
        "sns.distplot (happiness['Health..Life.Expectancy.'])"
      ],
      "execution_count": 0,
      "outputs": [
        {
          "output_type": "execute_result",
          "data": {
            "text/plain": [
              "<matplotlib.axes._subplots.AxesSubplot at 0x7f9a4568dd30>"
            ]
          },
          "metadata": {
            "tags": []
          },
          "execution_count": 38
        },
        {
          "output_type": "display_data",
          "data": {
            "image/png": "[encoded data removed]",
            "text/plain": [
              "<matplotlib.figure.Figure at 0x7f9a4560c1d0>"
            ]
          },
          "metadata": {
            "tags": []
          }
        }
      ]
    },
    {
      "metadata": {
        "id": "ukZY6lYeBdad",
        "colab_type": "code",
        "outputId": "8f37579b-4290-4995-92c6-7ab42fdb77ec",
        "colab": {
          "base_uri": "https://localhost:8080/",
          "height": 297
        }
      },
      "cell_type": "code",
      "source": [
        "sns.distplot (happiness['Freedom'])"
      ],
      "execution_count": 0,
      "outputs": [
        {
          "output_type": "execute_result",
          "data": {
            "text/plain": [
              "<matplotlib.axes._subplots.AxesSubplot at 0x7f9a45618cc0>"
            ]
          },
          "metadata": {
            "tags": []
          },
          "execution_count": 39
        },
        {
          "output_type": "display_data",
          "data": {
            "image/png": "[encoded data removed]",
            "text/plain": [
              "<matplotlib.figure.Figure at 0x7f9a4557a940>"
            ]
          },
          "metadata": {
            "tags": []
          }
        }
      ]
    },
    {
      "metadata": {
        "id": "F4eRjPZQ_NzN",
        "colab_type": "text"
      },
      "cell_type": "markdown",
      "source": [
        "ESTIMATE THE MODEL COEFFICIENTS FOR THE HAPPINESS DATA USING SCIKIT-LEARN"
      ]
    },
    {
      "metadata": {
        "id": "N0gCY0_nCLZn",
        "colab_type": "code",
        "outputId": "86823721-6c78-444c-831e-2218a2770cca",
        "colab": {
          "base_uri": "https://localhost:8080/",
          "height": 128
        }
      },
      "cell_type": "code",
      "source": [
        "# create X and y\n",
        "# R-Squared Metric explains the variance \n",
        "feature_cols = ['Economy..GDP.per.Capita.', 'Family', 'Health..Life.Expectancy.',\n",
        "               'Freedom']\n",
        "X = happiness[feature_cols]\n",
        "y = happiness['Happiness.Score']\n",
        "\n",
        "# instantiate and fit\n",
        "linreg = LinearRegression()\n",
        "linreg.fit(X, y)\n",
        "\n",
        "# print the coefficients\n",
        "print (linreg.intercept_)\n",
        "print (linreg.coef_)\n",
        "\n",
        "# pair the feature names with the coefficients\n",
        "dict(zip(feature_cols, linreg.coef_))"
      ],
      "execution_count": 0,
      "outputs": [
        {
          "output_type": "stream",
          "text": [
            "1.7991509939374475\n",
            "[0.8178579  1.0684976  1.3029348  1.86115318]\n"
          ],
          "name": "stdout"
        },
        {
          "output_type": "execute_result",
          "data": {
            "text/plain": [
              "{'Economy..GDP.per.Capita.': 0.817857901809208,\n",
              " 'Family': 1.0684976029212803,\n",
              " 'Freedom': 1.8611531781113493,\n",
              " 'Health..Life.Expectancy.': 1.3029347963045361}"
            ]
          },
          "metadata": {
            "tags": []
          },
          "execution_count": 41
        }
      ]
    },
    {
      "metadata": {
        "id": "v6y3hliOD72k",
        "colab_type": "code",
        "colab": {}
      },
      "cell_type": "code",
      "source": [
        "\n"
      ],
      "execution_count": 0,
      "outputs": []
    },
    {
      "metadata": {
        "id": "CvhnnVvmHl0s",
        "colab_type": "text"
      },
      "cell_type": "markdown",
      "source": [
        "Interpreting the coefficients:\n",
        "\n",
        "    Holding all other features fixed, a 1 unit increase in  is associated with an *increase of $21.52 *.\n",
        "    Holding all other features fixed, a 1 unit increase in **GDP.per.Capita.** rating is associated with an *increase of **0.818** happiness score *.\n",
        "    Holding all other features fixed, a 1 unit increase in **Family** rating is associated with an *increase of **1.069** happiness score*.\n",
        "    Holding all other features fixed, a 1 unit increase in **Freedom** rating is associated with an *increase of **1.861** happiness score*.\n",
        "    Holding all other features fixed, a 1 unit increase in **Health Life Expectancy** rating is associated with an *increase of **1.303** happiness score *.\n"
      ]
    },
    {
      "metadata": {
        "id": "6pbtc8TUIrmP",
        "colab_type": "code",
        "colab": {}
      },
      "cell_type": "code",
      "source": [
        "X = happiness[['Economy..GDP.per.Capita.', 'Family', 'Health..Life.Expectancy.',\n",
        "               'Freedom']]\n",
        "y = happiness['Happiness.Score']"
      ],
      "execution_count": 0,
      "outputs": []
    },
    {
      "metadata": {
        "id": "1OxpqQ9qJCpF",
        "colab_type": "code",
        "colab": {}
      },
      "cell_type": "code",
      "source": [
        "from sklearn.model_selection import train_test_split"
      ],
      "execution_count": 0,
      "outputs": []
    },
    {
      "metadata": {
        "id": "nUKVbvhkJFRS",
        "colab_type": "code",
        "colab": {}
      },
      "cell_type": "code",
      "source": [
        "X_train, X_test, y_train, y_test = train_test_split(X, y, test_size=0.4, random_state=101)"
      ],
      "execution_count": 0,
      "outputs": []
    },
    {
      "metadata": {
        "id": "h2eTrJdlJJz8",
        "colab_type": "code",
        "colab": {}
      },
      "cell_type": "code",
      "source": [
        "from sklearn.linear_model import LinearRegression"
      ],
      "execution_count": 0,
      "outputs": []
    },
    {
      "metadata": {
        "id": "6vq3LFdFRCxD",
        "colab_type": "code",
        "colab": {}
      },
      "cell_type": "code",
      "source": [
        "lm = LinearRegression()"
      ],
      "execution_count": 0,
      "outputs": []
    },
    {
      "metadata": {
        "id": "Oq_JY3UMQ_QF",
        "colab_type": "code",
        "outputId": "dd3952e1-2e15-4018-8356-9228c5ae46ac",
        "colab": {
          "base_uri": "https://localhost:8080/",
          "height": 54
        }
      },
      "cell_type": "code",
      "source": [
        "lm.fit(X_train,y_train)"
      ],
      "execution_count": 0,
      "outputs": [
        {
          "output_type": "execute_result",
          "data": {
            "text/plain": [
              "LinearRegression(copy_X=True, fit_intercept=True, n_jobs=None,\n",
              "         normalize=False)"
            ]
          },
          "metadata": {
            "tags": []
          },
          "execution_count": 53
        }
      ]
    },
    {
      "metadata": {
        "id": "mhvBz_gKRFT9",
        "colab_type": "code",
        "colab": {}
      },
      "cell_type": "code",
      "source": [
        ""
      ],
      "execution_count": 0,
      "outputs": []
    },
    {
      "metadata": {
        "id": "RlRMeyjvRSC4",
        "colab_type": "text"
      },
      "cell_type": "markdown",
      "source": [
        "Predictions from our Model\n",
        "Predictions off our test set and see how well it did!"
      ]
    },
    {
      "metadata": {
        "id": "fBVGoSHXRTot",
        "colab_type": "code",
        "colab": {}
      },
      "cell_type": "code",
      "source": [
        "predictions = lm.predict(X_test)"
      ],
      "execution_count": 0,
      "outputs": []
    },
    {
      "metadata": {
        "id": "pZqoUdmoRaPf",
        "colab_type": "code",
        "outputId": "5f887c7f-bb6b-4973-8f78-2743bf3da99d",
        "colab": {
          "base_uri": "https://localhost:8080/",
          "height": 283
        }
      },
      "cell_type": "code",
      "source": [
        "plt.scatter(y_test,predictions)"
      ],
      "execution_count": 0,
      "outputs": [
        {
          "output_type": "execute_result",
          "data": {
            "text/plain": [
              "<matplotlib.collections.PathCollection at 0x7f9a454d3198>"
            ]
          },
          "metadata": {
            "tags": []
          },
          "execution_count": 55
        },
        {
          "output_type": "display_data",
          "data": {
            "image/png": "[encoded data removed]",
            "text/plain": [
              "<matplotlib.figure.Figure at 0x7f9a454f9b70>"
            ]
          },
          "metadata": {
            "tags": []
          }
        }
      ]
    },
    {
      "metadata": {
        "id": "_dE34WiBRcLY",
        "colab_type": "code",
        "outputId": "37f1f223-d07a-4bd0-8c28-562e94003324",
        "colab": {
          "base_uri": "https://localhost:8080/",
          "height": 72
        }
      },
      "cell_type": "code",
      "source": [
        "print('MAE:', metrics.mean_absolute_error(y_test, predictions))\n",
        "print('MSE:', metrics.mean_squared_error(y_test, predictions))\n",
        "print('RMSE:', np.sqrt(metrics.mean_squared_error(y_test, predictions)))"
      ],
      "execution_count": 0,
      "outputs": [
        {
          "output_type": "stream",
          "text": [
            "MAE: 0.3841487637955291\n",
            "MSE: 0.25532021057907966\n",
            "RMSE: 0.5052922031647428\n"
          ],
          "name": "stdout"
        }
      ]
    },
    {
      "metadata": {
        "id": "UuBVrhQTXHns",
        "colab_type": "text"
      },
      "cell_type": "markdown",
      "source": [
        "RMSE is a good measure of how accurately the model predicts the response, and it is the most important criterion for fit if the main purpose of the model is prediction."
      ]
    }
  ]
}